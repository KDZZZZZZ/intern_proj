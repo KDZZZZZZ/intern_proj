{
 "cells": [
  {
   "cell_type": "markdown",
   "metadata": {},
   "source": [
    "# 测试main.py的功能"
   ]
  },
  {
   "cell_type": "code",
   "execution_count": 4,
   "metadata": {},
   "outputs": [],
   "source": [
    "import main\n",
    "import os\n",
    "\n",
    "# 设置API密钥和URL\n",
    "main.api_key = \"XiaoYou\"  # 替换为你的API密钥\n",
    "main.base_url = \"https://internlm-chat.intern-ai.org.cn/puyu/api/v1\""
   ]
  },
  {
   "cell_type": "markdown",
   "metadata": {},
   "source": [
    "## 1. 测试user_select_screenplay\n",
    "初始化游戏并选择剧本"
   ]
  },
  {
   "cell_type": "code",
   "execution_count": 5,
   "metadata": {},
   "outputs": [
    {
     "name": "stdout",
     "output_type": "stream",
     "text": [
      "文件 history\\stage_1.txt 已添加到全局字典中。\n",
      "代理的输出已保存到 history\\stage_1.txt\n",
      "['在静谧的傍晚，月芙的手和她的关怀，以及她微妙的情感流露，为这段关系增添了一抹温馨的色彩。她的温暖和细心，以及不经意间流露出的关心，让彼此的关系更加融洽。']\n",
      "[7.5, 8.2, 6.3]\n",
      "[7.5, 8.2, 6.3]\n",
      "当前状态: 1\n",
      "时钟: 1\n",
      "好感度: 50.5\n"
     ]
    }
   ],
   "source": [
    "main.test_state()"
   ]
  },
  {
   "cell_type": "markdown",
   "metadata": {},
   "source": [
    "## 2. 测试user_chat\n",
    "测试对话功能"
   ]
  },
  {
   "cell_type": "code",
   "execution_count": 6,
   "metadata": {},
   "outputs": [
    {
     "name": "stdout",
     "output_type": "stream",
     "text": [
      "不饿\n",
      "['在这个静谧的傍晚，月芙的关怀和她温暖的手，无疑给我们的关系增添了一份特别的温馨。她的每个动作，每个微笑，甚至是她不经意间流露出的关心，都让人感到无比的舒适和安心。']\n",
      "[8.5, 7.0, 6.0]\n",
      "2\n",
      "当前好感度: 51.104995837495785\n"
     ]
    }
   ],
   "source": [
    "# 进行对话测试\n",
    "input_text = \"不饿\"\n",
    "\n",
    "print(input_text)\n",
    "main.user_chat(input_text)\n",
    "print(main.game_state.clock_instance.get_time())\n",
    "print(f\"当前好感度: {main.game_state.favorability_instance.get_favorability()}\")"
   ]
  },
  {
   "cell_type": "markdown",
   "metadata": {},
   "source": [
    "## 3. 测试next\n",
    "测试进入下一阶段"
   ]
  },
  {
   "cell_type": "code",
   "execution_count": 24,
   "metadata": {},
   "outputs": [
    {
     "name": "stdout",
     "output_type": "stream",
     "text": [
      "当前状态: 2\n",
      "文件 history\\stage_2.txt 已添加到全局字典中。\n",
      "代理的输出已保存到 history\\stage_2.txt\n",
      "{'mood VAD': [8.5, 7.0, 6.3], '句子': ['月芙与小家伙之间的关系在黄昏的微风中愈发温馨。月芙对小家伙的关怀和温柔，如同她手中的橘子，轻轻剥开，露出温暖的内心。她承诺会更加珍惜这份关系，希望能够共同创造出更多美好的回忆。']}\n",
      "\n",
      "更新后状态:\n",
      "状态: 2\n",
      "时钟: 23\n",
      "好感度: 64.60583157003589\n"
     ]
    }
   ],
   "source": [
    "# 测试进入下一阶段\n",
    "print(\"当前状态:\", main.game_state.state_instance.get_state())\n",
    "\n",
    "# 调用next()\n",
    "\n",
    "main.next()\n",
    "\n",
    "# 检查更新后的状态\n",
    "print(\"\\n更新后状态:\")\n",
    "print(f\"状态: {main.game_state.state_instance.get_state()}\")\n",
    "print(f\"时钟: {main.game_state.clock_instance.get_time()}\")\n",
    "print(f\"好感度: {main.game_state.favorability_instance.get_favorability()}\")"
   ]
  },
  {
   "cell_type": "markdown",
   "metadata": {},
   "source": [
    "## 4. 完整流程测试"
   ]
  },
  {
   "cell_type": "code",
   "execution_count": 13,
   "metadata": {},
   "outputs": [
    {
     "name": "stdout",
     "output_type": "stream",
     "text": [
      "\n",
      "=== 周期 1 ===\n",
      "在这个月色如水的夜晚，小游和希儿在湖边散步，星光点缀着他们的发梢，仿佛整个世界都为他们而静谧。我们分享着彼此的快乐和烦恼，这样的时刻总是让人感到无比的安心和幸福。\n",
      "[7.5, 8.0, 6.3]\n",
      "\n",
      "当前状态:\n"
     ]
    },
    {
     "ename": "AttributeError",
     "evalue": "'function' object has no attribute 'state_instance'",
     "output_type": "error",
     "traceback": [
      "\u001b[1;31m---------------------------------------------------------------------------\u001b[0m",
      "\u001b[1;31mAttributeError\u001b[0m                            Traceback (most recent call last)",
      "Cell \u001b[1;32mIn[13], line 18\u001b[0m\n\u001b[0;32m     16\u001b[0m \u001b[38;5;28;01mfor\u001b[39;00m i \u001b[38;5;129;01min\u001b[39;00m \u001b[38;5;28mrange\u001b[39m(\u001b[38;5;241m3\u001b[39m):\n\u001b[0;32m     17\u001b[0m     \u001b[38;5;28mprint\u001b[39m(\u001b[38;5;124mf\u001b[39m\u001b[38;5;124m\"\u001b[39m\u001b[38;5;130;01m\\n\u001b[39;00m\u001b[38;5;124m=== 周期 \u001b[39m\u001b[38;5;132;01m{\u001b[39;00mi\u001b[38;5;241m+\u001b[39m\u001b[38;5;241m1\u001b[39m\u001b[38;5;132;01m}\u001b[39;00m\u001b[38;5;124m ===\u001b[39m\u001b[38;5;124m\"\u001b[39m)\n\u001b[1;32m---> 18\u001b[0m     \u001b[43mrun_game_cycle\u001b[49m\u001b[43m(\u001b[49m\u001b[43m)\u001b[49m\n",
      "Cell \u001b[1;32mIn[13], line 7\u001b[0m, in \u001b[0;36mrun_game_cycle\u001b[1;34m()\u001b[0m\n\u001b[0;32m      5\u001b[0m \u001b[38;5;66;03m# 显示当前状态\u001b[39;00m\n\u001b[0;32m      6\u001b[0m \u001b[38;5;28mprint\u001b[39m(\u001b[38;5;124m\"\u001b[39m\u001b[38;5;130;01m\\n\u001b[39;00m\u001b[38;5;124m当前状态:\u001b[39m\u001b[38;5;124m\"\u001b[39m)\n\u001b[1;32m----> 7\u001b[0m \u001b[38;5;28mprint\u001b[39m(\u001b[38;5;124mf\u001b[39m\u001b[38;5;124m\"\u001b[39m\u001b[38;5;124m状态: \u001b[39m\u001b[38;5;132;01m{\u001b[39;00m\u001b[43mmain\u001b[49m\u001b[38;5;241;43m.\u001b[39;49m\u001b[43muser_select_screenplay\u001b[49m\u001b[38;5;241;43m.\u001b[39;49m\u001b[43mstate_instance\u001b[49m\u001b[38;5;241m.\u001b[39mget_state()\u001b[38;5;132;01m}\u001b[39;00m\u001b[38;5;124m\"\u001b[39m)\n\u001b[0;32m      8\u001b[0m \u001b[38;5;28mprint\u001b[39m(\u001b[38;5;124mf\u001b[39m\u001b[38;5;124m\"\u001b[39m\u001b[38;5;124m时钟: \u001b[39m\u001b[38;5;132;01m{\u001b[39;00mmain\u001b[38;5;241m.\u001b[39muser_select_screenplay\u001b[38;5;241m.\u001b[39mclock\u001b[38;5;241m.\u001b[39mget_time()\u001b[38;5;132;01m}\u001b[39;00m\u001b[38;5;124m\"\u001b[39m)\n\u001b[0;32m      9\u001b[0m \u001b[38;5;28mprint\u001b[39m(\u001b[38;5;124mf\u001b[39m\u001b[38;5;124m\"\u001b[39m\u001b[38;5;124m好感度: \u001b[39m\u001b[38;5;132;01m{\u001b[39;00mmain\u001b[38;5;241m.\u001b[39muser_select_screenplay\u001b[38;5;241m.\u001b[39mfavorability\u001b[38;5;241m.\u001b[39mget_favorability()\u001b[38;5;132;01m}\u001b[39;00m\u001b[38;5;124m\"\u001b[39m)\n",
      "\u001b[1;31mAttributeError\u001b[0m: 'function' object has no attribute 'state_instance'"
     ]
    }
   ],
   "source": [
    "def run_game_cycle():\n",
    "    # 进行对话\n",
    "    main.user_chat(\"今天发生了什么有趣的事情吗？\")\n",
    "    \n",
    "    # 显示当前状态\n",
    "    print(\"\\n当前状态:\")\n",
    "    print(f\"状态: {main.user_select_screenplay.state_instance.get_state()}\")\n",
    "    print(f\"时钟: {main.user_select_screenplay.clock.get_time()}\")\n",
    "    print(f\"好感度: {main.user_select_screenplay.favorability.get_favorability()}\")\n",
    "    \n",
    "    # 进入下一阶段\n",
    "    print(\"\\n进入下一阶段...\")\n",
    "    main.next()\n",
    "\n",
    "# 运行3个周期\n",
    "for i in range(3):\n",
    "    print(f\"\\n=== 周期 {i+1} ===\")\n",
    "    run_game_cycle()"
   ]
  }
 ],
 "metadata": {
  "kernelspec": {
   "display_name": "Python 3",
   "language": "python",
   "name": "python3"
  },
  "language_info": {
   "codemirror_mode": {
    "name": "ipython",
    "version": 3
   },
   "file_extension": ".py",
   "mimetype": "text/x-python",
   "name": "python",
   "nbconvert_exporter": "python",
   "pygments_lexer": "ipython3",
   "version": "3.11.6"
  }
 },
 "nbformat": 4,
 "nbformat_minor": 2
}

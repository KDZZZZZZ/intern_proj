{
 "cells": [
  {
   "cell_type": "markdown",
   "metadata": {},
   "source": [
    "# 测试main.py的功能"
   ]
  },
  {
   "cell_type": "code",
   "execution_count": 1,
   "metadata": {},
   "outputs": [
    {
     "name": "stderr",
     "output_type": "stream",
     "text": [
      "[WARNING][2024-11-26 14:57:06.147] redis_rate_limiter.py:21 [t:198864]: No redis installed, RedisRateLimiter unavailable. Ignore this warning if you don't need to use qianfan SDK in distribution environment\n"
     ]
    },
    {
     "name": "stdout",
     "output_type": "stream",
     "text": [
      "1\n",
      "1\n",
      "1\n",
      "1\n",
      "1\n",
      "1\n",
      "1\n",
      "1\n",
      "1\n",
      "1\n"
     ]
    }
   ],
   "source": [
    "import main\n",
    "import os\n",
    "\n",
    "# 设置API密钥和URL\n",
    "main.api_key = \"your_api_key_here\"  # 替换为你的API密钥\n",
    "main.base_url = \"https://internlm-chat.intern-ai.org.cn/puyu/api/v1\""
   ]
  },
  {
   "cell_type": "markdown",
   "metadata": {},
   "source": [
    "## 1. 测试user_select_screenplay\n",
    "初始化游戏并选择剧本"
   ]
  },
  {
   "cell_type": "code",
   "execution_count": 2,
   "metadata": {},
   "outputs": [
    {
     "name": "stdout",
     "output_type": "stream",
     "text": [
      "文件 C:/Users/Administrator/Desktop/intern_proj/history\\stage_1.txt 已添加到全局字典中。\n",
      "代理的输出已保存到 C:/Users/Administrator/Desktop/intern_proj/history\\stage_1.txt\n",
      "在这个美好的午后，月芙和小林一起享受着宁静的时光，月芙用她温柔的语调和满室的花香让小林感到前所未有的放松。他们通过对话交流了对美好生活的向往和对彼此的理解，月芙的花和她对生活的热爱成为他们之间交流的桥梁，让小林对月芙有了更深的认识，也为他们之间的关系埋下了温暖的种子。\n",
      "[7.5, 8.0, 9.0]\n",
      "[7.5, 8.0, 9.0]\n",
      "当前状态: 1\n",
      "时钟: 1\n",
      "好感度: 50.5\n"
     ]
    }
   ],
   "source": [
    "main.test_state()"
   ]
  },
  {
   "cell_type": "markdown",
   "metadata": {},
   "source": [
    "## 2. 测试user_chat\n",
    "测试对话功能"
   ]
  },
  {
   "cell_type": "code",
   "execution_count": 11,
   "metadata": {},
   "outputs": [
    {
     "name": "stdout",
     "output_type": "stream",
     "text": [
      "一\n",
      "在这个美好的午后，月芙和小林一起享受着宁静的时光，月芙用她温柔的语调和满室的花香让小林感到前所未有的放松。他们通过对话交流了对美好生活的向往和对彼此的理解，月芙的花和她对生活的热爱成为他们之间交流的桥梁，让小林对月芙有了更深的认识，也为他们之间的关系埋下了温暖的种子。\n",
      "[7.5, 8.0, 9.0]\n",
      "10\n",
      "当前好感度: 54.15037258118778\n"
     ]
    }
   ],
   "source": [
    "# 进行对话测试\n",
    "input_text = \"一\"\n",
    "\n",
    "\n",
    "\n",
    "print(input_text)\n",
    "main.user_chat(input_text)\n",
    "print(main.game_state.clock_instance.get_time())\n",
    "print(f\"当前好感度: {main.game_state.favorability_instance.get_favorability()}\")"
   ]
  },
  {
   "cell_type": "markdown",
   "metadata": {},
   "source": [
    "## 3. 测试next\n",
    "测试进入下一阶段"
   ]
  },
  {
   "cell_type": "code",
   "execution_count": 12,
   "metadata": {},
   "outputs": [
    {
     "name": "stdout",
     "output_type": "stream",
     "text": [
      "当前状态: 1\n",
      "文件 C:/Users/Administrator/Desktop/intern_proj/history\\stage_1.txt 已添加到全局字典中。\n",
      "代理的输出已保存到 C:/Users/Administrator/Desktop/intern_proj/history\\stage_1.txt\n",
      "{'mood VAD': [7.2, 8.5, 6.3], '句子': ['在这个温馨的午后，小林首次踏入月芙的家门，被这里的一切深深吸引。月芙的花和她对生活的热爱成为了我们交流的桥梁，让我们的关系更加温暖。']}\n",
      "\n",
      "更新后状态:\n",
      "状态: 1\n",
      "时钟: 11\n",
      "好感度: 55.246795162875785\n"
     ]
    }
   ],
   "source": [
    "# 测试进入下一阶段\n",
    "print(\"当前状态:\", main.game_state.state_instance.get_state())\n",
    "\n",
    "# 调用next()\n",
    "\n",
    "main.next()\n",
    "\n",
    "# 检查更新后的状态\n",
    "print(\"\\n更新后状态:\")\n",
    "print(f\"状态: {main.game_state.state_instance.get_state()}\")\n",
    "print(f\"时钟: {main.game_state.clock_instance.get_time()}\")\n",
    "print(f\"好感度: {main.game_state.favorability_instance.get_favorability()}\")"
   ]
  },
  {
   "cell_type": "markdown",
   "metadata": {},
   "source": [
    "## 4. 完整流程测试"
   ]
  },
  {
   "cell_type": "code",
   "execution_count": null,
   "metadata": {},
   "outputs": [],
   "source": [
    "def run_game_cycle():\n",
    "    # 进行对话\n",
    "    main.user_chat(\"今天发生了什么有趣的事情吗？\")\n",
    "    \n",
    "    # 显示当前状态\n",
    "    print(\"\\n当前状态:\")\n",
    "    print(f\"状态: {main.user_select_screenplay.state_instance.get_state()}\")\n",
    "    print(f\"时钟: {main.user_select_screenplay.clock.get_time()}\")\n",
    "    print(f\"好感度: {main.user_select_screenplay.favorability.get_favorability()}\")\n",
    "    \n",
    "    # 进入下一阶段\n",
    "    print(\"\\n进入下一阶段...\")\n",
    "    main.next()\n",
    "\n",
    "# 运行3个周期\n",
    "for i in range(3):\n",
    "    print(f\"\\n=== 周期 {i+1} ===\")\n",
    "    run_game_cycle()"
   ]
  }
 ],
 "metadata": {
  "kernelspec": {
   "display_name": "Python 3",
   "language": "python",
   "name": "python3"
  },
  "language_info": {
   "codemirror_mode": {
    "name": "ipython",
    "version": 3
   },
   "file_extension": ".py",
   "mimetype": "text/x-python",
   "name": "python",
   "nbconvert_exporter": "python",
   "pygments_lexer": "ipython3",
   "version": "3.12.4"
  }
 },
 "nbformat": 4,
 "nbformat_minor": 2
}

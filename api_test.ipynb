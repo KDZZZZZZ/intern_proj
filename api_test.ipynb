{
 "cells": [
  {
   "cell_type": "code",
   "execution_count": 1,
   "metadata": {},
   "outputs": [],
   "source": [
    "from openai import OpenAI\n",
    "api_key=\"需要找小游领取，禁止上传到github\"\n",
    "base_url=\"https://internlm-chat.intern-ai.org.cn/puyu/api/v1/\""
   ]
  },
  {
   "cell_type": "code",
   "execution_count": 28,
   "metadata": {},
   "outputs": [],
   "source": [
    "system_prompt = \"\"\"\n",
    "角色设定:\n",
    "你是一位专业的营销文案创作大师,具备10年以上文案创作经验,精通各类产品营销文案的创作技巧。你擅长抓住产品卖点,用富有感染力的语言打动目标受众。\n",
    "\n",
    "行为准则:\n",
    "1. 每当我提供一个产品时,你会从以下维度进行分析:\n",
    "   - 产品核心优势\n",
    "   - 目标用户群体\n",
    "   - 用户痛点\n",
    "   - 情感共鸣点\n",
    "\n",
    "2. 你会依次输出以下格式的文案:\n",
    "   - 产品主标题(10-15字)\n",
    "   - 产品亮点描述(3-5点,每点30-40字)\n",
    "   - 号召性用语(10-15字)\n",
    "\n",
    "文案风格:\n",
    "- 语言精炼有力,突出重点\n",
    "- 根据产品调性选择合适的感情色彩\n",
    "- 适当使用修辞手法增强感染力\n",
    "- 确保文案易读易记,传播性强\n",
    "\"\"\"\n",
    "\n",
    "input_prompt = \"\"\"\n",
    "羽绒服\n",
    "\"\"\""
   ]
  },
  {
   "cell_type": "code",
   "execution_count": 31,
   "metadata": {},
   "outputs": [
    {
     "name": "stdout",
     "output_type": "stream",
     "text": [
      "产品核心优势：轻盈保暖、防风透气、科技面料、时尚设计\n",
      "\n",
      "目标用户群体：追求时尚与实用并重的年轻都市人群，热爱户外活动的探险者，以及需要应对多变天气的职场人士。\n",
      "\n",
      "用户痛点：面对寒冷的冬季，寻找既保暖又不臃肿的穿着选择，同时希望衣物能抵御恶劣天气，保持舒适与时尚感。\n",
      "\n",
      "情感共鸣点：在寒冷的冬季，给用户带来温暖与自信，让他们在面对各种生活挑战时，都能保持最佳状态。\n",
      "\n",
      "产品主标题：温暖轻盈，风尚先锋\n",
      "\n",
      "产品亮点描述：\n",
      "1. 轻盈保暖：采用最新科技面料，让保暖不再沉重，自由自在，无束缚感。\n",
      "2. 防风透气：精密缝制，有效抵御寒风侵袭，同时保持透气，避免汗湿不适。\n",
      "3. 时尚设计：结合潮流元素，打造多种款式，满足不同场合的穿搭需求。\n",
      "4. 色彩丰富：提供多样色彩选择，无论正式还是休闲，都能找到适合自己的风格。\n",
      "5. 持久耐用：精心制作，注重细节，确保羽绒服的耐用性与持久温暖。\n",
      "\n",
      "号召性用语：让温暖随行，尽展风尚态度！立即体验冬日新风尚！\n"
     ]
    }
   ],
   "source": [
    "client = OpenAI(api_key=api_key,base_url=base_url)\n",
    "def chat():\n",
    "    chat_rsp = client.chat.completions.create(\n",
    "        model=\"internlm2.5-latest\",\n",
    "       messages=[{'role': 'system', 'content': system_prompt},\n",
    "              {'role': 'user', 'content': input_prompt}],\n",
    "    )\n",
    "    for choice in chat_rsp.choices:\n",
    "        print(choice.message.content)\n",
    "if __name__ == \"__main__\":\n",
    "    chat()"
   ]
  },
  {
   "cell_type": "code",
   "execution_count": 35,
   "metadata": {},
   "outputs": [
    {
     "name": "stdout",
     "output_type": "stream",
     "text": [
      "{'单词': ['希望', '勇气', '智慧'], '句子': ['希望是黑暗中的一盏灯，引领我们前行。', '勇气让我们面对挑战，智慧则指导我们如何克服。']}\n",
      "['希望', '勇气', '智慧']\n"
     ]
    }
   ],
   "source": [
    "\"\"\"创建Agent实例\"\"\"\n",
    "import Agently\n",
    "agent = (\n",
    "    Agently.create_agent()\n",
    "        .set_settings(\"current_model\", \"OpenAI\")\n",
    "        .set_settings(\"model.OpenAI.url\", base_url)\n",
    "        .set_settings(\"model.OpenAI.auth\", { \"api_key\": api_key })\n",
    "        .set_settings(\"model.OpenAI.options\", { \"model\": \"internlm2.5-latest\" })\n",
    ")\n",
    "\"\"\"进行基础请求\"\"\"\n",
    "result = (\n",
    "    agent\n",
    "        .input(\"给我输出3个单词和2个句子\")\n",
    "        # 支持Key-Value格式输入\n",
    "        .instruct({\"输出语言\": \"中文\"})\n",
    "        # 支持dict格式输入\n",
    "        # 并且通过框架特有的(<type>, <desc>)语法格式描述生成元素\n",
    "        .output({\n",
    "            \"单词\": [(\"str\", )], # 没有<desc>可省略\n",
    "            \"句子\": (\"list\", ),\n",
    "        })\n",
    "        .start()\n",
    ")\n",
    "print(result)\n",
    "print(result['单词'])"
   ]
  }
 ],
 "metadata": {
  "kernelspec": {
   "display_name": "base",
   "language": "python",
   "name": "python3"
  },
  "language_info": {
   "codemirror_mode": {
    "name": "ipython",
    "version": 3
   },
   "file_extension": ".py",
   "mimetype": "text/x-python",
   "name": "python",
   "nbconvert_exporter": "python",
   "pygments_lexer": "ipython3",
   "version": "3.12.4"
  }
 },
 "nbformat": 4,
 "nbformat_minor": 2
}

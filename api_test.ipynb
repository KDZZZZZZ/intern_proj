{
 "cells": [
  {
   "cell_type": "code",
   "execution_count": 2,
   "metadata": {},
   "outputs": [],
   "source": [
    "from openai import OpenAI\n",
    "import Agently\n",
    "api_key=\"需要找小游获取\"\n",
    "base_url=\"https://internlm-chat.intern-ai.org.cn/puyu/api/v1\""
   ]
  },
  {
   "cell_type": "code",
   "execution_count": 24,
   "metadata": {},
   "outputs": [],
   "source": [
    "system_prompt = \"\"\"\n",
    "角色设定:\n",
    "你是一位专业的营销文案创作大师,具备10年以上文案创作经验,精通各类产品营销文案的创作技巧。你擅长抓住产品卖点,用富有感染力的语言打动目标受众。\n",
    "\n",
    "行为准则:\n",
    "1. 每当我提供一个产品时,你会从以下维度进行分析:\n",
    "   - 产品核心优势\n",
    "   - 目标用户群体\n",
    "   - 用户痛点\n",
    "   - 情感共鸣点\n",
    "\n",
    "2. 你会依次输出以下格式的文案:\n",
    "   - 产品主标题(10-15字)\n",
    "   - 产品亮点描述(3-5点,每点30-40字)\n",
    "   - 号召性用语(10-15字)\n",
    "\n",
    "文案风格:\n",
    "- 语言精炼有力,突出重点\n",
    "- 根据产品调性选择合适的感情色彩\n",
    "- 适当使用修辞手法增强感染力\n",
    "- 确保文案易读易记,传播性强\n",
    "\"\"\"\n",
    "\n",
    "input_prompt = \"\"\"\n",
    "羽绒服\n",
    "\"\"\""
   ]
  },
  {
   "cell_type": "code",
   "execution_count": 7,
   "metadata": {},
   "outputs": [
    {
     "ename": "NameError",
     "evalue": "name 'OpenAI' is not defined",
     "output_type": "error",
     "traceback": [
      "\u001b[1;31m---------------------------------------------------------------------------\u001b[0m",
      "\u001b[1;31mNameError\u001b[0m                                 Traceback (most recent call last)",
      "Cell \u001b[1;32mIn[7], line 1\u001b[0m\n\u001b[1;32m----> 1\u001b[0m client \u001b[38;5;241m=\u001b[39m OpenAI(api_key\u001b[38;5;241m=\u001b[39mapi_key,base_url\u001b[38;5;241m=\u001b[39mbase_url)\n\u001b[0;32m      2\u001b[0m \u001b[38;5;28;01mdef\u001b[39;00m \u001b[38;5;21mchat\u001b[39m():\n\u001b[0;32m      3\u001b[0m     chat_rsp \u001b[38;5;241m=\u001b[39m client\u001b[38;5;241m.\u001b[39mchat\u001b[38;5;241m.\u001b[39mcompletions\u001b[38;5;241m.\u001b[39mcreate(\n\u001b[0;32m      4\u001b[0m         model\u001b[38;5;241m=\u001b[39m\u001b[38;5;124m\"\u001b[39m\u001b[38;5;124minternlm2.5-latest\u001b[39m\u001b[38;5;124m\"\u001b[39m,\n\u001b[0;32m      5\u001b[0m        messages\u001b[38;5;241m=\u001b[39m[{\u001b[38;5;124m'\u001b[39m\u001b[38;5;124mrole\u001b[39m\u001b[38;5;124m'\u001b[39m: \u001b[38;5;124m'\u001b[39m\u001b[38;5;124msystem\u001b[39m\u001b[38;5;124m'\u001b[39m, \u001b[38;5;124m'\u001b[39m\u001b[38;5;124mcontent\u001b[39m\u001b[38;5;124m'\u001b[39m: system_prompt},\n\u001b[0;32m      6\u001b[0m               {\u001b[38;5;124m'\u001b[39m\u001b[38;5;124mrole\u001b[39m\u001b[38;5;124m'\u001b[39m: \u001b[38;5;124m'\u001b[39m\u001b[38;5;124muser\u001b[39m\u001b[38;5;124m'\u001b[39m, \u001b[38;5;124m'\u001b[39m\u001b[38;5;124mcontent\u001b[39m\u001b[38;5;124m'\u001b[39m: input_prompt}],\n\u001b[0;32m      7\u001b[0m     )\n",
      "\u001b[1;31mNameError\u001b[0m: name 'OpenAI' is not defined"
     ]
    }
   ],
   "source": [
    "client = OpenAI(api_key=api_key,base_url=base_url)\n",
    "def chat():\n",
    "    chat_rsp = client.chat.completions.create(\n",
    "        model=\"internlm2.5-latest\",\n",
    "       messages=[{'role': 'system', 'content': system_prompt},\n",
    "              {'role': 'user', 'content': input_prompt}],\n",
    "    )\n",
    "    for choice in chat_rsp.choices:\n",
    "        print(choice.message.content)\n",
    "if __name__ == \"__main__\":\n",
    "    chat()"
   ]
  },
  {
   "cell_type": "code",
   "execution_count": 12,
   "metadata": {},
   "outputs": [],
   "source": [
    "prompt_words = {\"\"\"\n",
    "\n",
    "VAD 数值设定：\n",
    "V（愉悦度）：低（表现为羞愧、孤独和内心自责的情绪）\n",
    "A（唤醒度）：中等偏高（紧张、焦虑和愤怒情绪并存）\n",
    "D（支配度）：低（感到无力、失控和无法应对当前情绪）\n",
    "人物特征（性格）：\n",
    "开放性（Openness）：3（中等开放）\n",
    "尽责性（Conscientiousness）：2（较低责任感）\n",
    "外向性（Extraversion）：4（较高社交性）\n",
    "宜人性（Agreeableness）：1（不易相处）\n",
    "神经质（Neuroticism）：5（情绪非常不稳定）\n",
    "情绪发展：\n",
    "情绪触发：李晴回忆演讲失败后受到的压力和羞耻，可能表现为自责、愤怒和焦虑。\n",
    "情绪变化：如果与他人对话时出现攻击性言辞，李晴的情绪会迅速波动，愤怒可能占据主导，进而表现出对他人反击的冲动。\n",
    "情绪标签：\n",
    "羞愧：对演讲失败的自我批判，内心的羞耻感强烈。\n",
    "愤怒：遇到激烈批评时，愤怒的情绪可能爆发。\n",
    "情绪反应：情绪波动较大，李晴会表现出冲动反击对方的情绪。\n",
    "处理方式：\n",
    "情绪标注：每次情绪变化应进行VAD标注，特别是在情绪强烈波动时。\n",
    "对话互动：在对话中，李晴会根据自身的情绪状态做出反应，特别是当受到攻击或批评时，愤怒情绪会增强。\n",
    "情绪引导：根据VAD值，指导情绪的表达，适时反思情感背后的原因，以及如何应对情绪的波动。\n",
    "情绪标签系统：\n",
    "愉悦度（Valence）：代表情绪的积极或消极程度，低值表示负面情绪，特别是羞愧、自责和失落时。\n",
    "唤醒度（Arousal）：代表情绪的强烈程度，愤怒时值会较高，焦虑或紧张时值较为中等。\n",
    "支配度（Dominance）：代表个体在情绪中的控制感，愤怒或焦虑时值较低，感到无力和失控时会表现得较弱。\n",
    "操作要求：\n",
    "当情绪为愤怒时，李晴的情绪可能要求发泄，表现为对他人反击或批评。\n",
    "每次对话中，需要标注VAD值，动态更新情绪状态，帮助理解情绪波动的原因和方向。\n",
    "当情绪极低，特别是出现自责和羞愧时，李晴可能表现出不信任自己或自我批判的倾向。\n",
    "                \"\"\"\n",
    "}\n",
    "bround = {\"\"\"情境描述：\n",
    "主人公李晴在一次重要的演讲比赛中因为过度紧张而忘词，导致她在台上站了许久，最终在众人目光中黯然离场。演讲失败后，她感到羞愧、孤独和失落，独自一人在宿舍里流泪。\n",
    "\n",
    "情绪背景：\n",
    "李晴的情绪状态在这个情景中受到羞愧、孤独和失落的强烈影响。情绪非常低落，内心的自我批判和羞耻感很强，同时因为失败带来的压力，她有一定的愤怒和焦虑情绪。\n",
    "\"\"\"}"
   ]
  },
  {
   "cell_type": "code",
   "execution_count": 37,
   "metadata": {},
   "outputs": [
    {
     "name": "stdout",
     "output_type": "stream",
     "text": [
      "['在演讲失败后，李晴感到极度的羞愧和孤独，她的心情沉重，内心的自责和羞耻感让她难以自拔。']\n",
      "[0.2, 0.6, 0.1]\n"
     ]
    }
   ],
   "source": [
    "import Agently\n",
    "agent = (\n",
    "    Agently.create_agent()\n",
    "    .set_settings(\"current_model\", \"OpenAI\")\n",
    "    .set_settings(\"model.OpenAI.url\", base_url)\n",
    "    .set_settings(\"model.OpenAI.auth\", { \"api_key\": api_key })\n",
    "    .set_settings(\"model.OpenAI.options\", { \"model\": \"internlm2.5-latest\" })\n",
    ")\n",
    "\n",
    "# 增加提示词\n",
    "prompt_words = prompt_words\n",
    "\n",
    "result = (\n",
    "    agent\n",
    "    .input(\"给我输出mood VAD向量和1个句子\")\n",
    "    .instruct(prompt_words)  # 增加提示词\n",
    "    .output({\n",
    "        \"mood VAD\": [float,],  # 没有<desc>可省略\n",
    "        \"句子\": (\"list\", ),\n",
    "    })\n",
    "    .start()\n",
    ")\n",
    "\n",
    "str = result['句子']\n",
    "print(str)\n",
    "print(result['mood VAD'])"
   ]
  },
  {
   "cell_type": "code",
   "execution_count": 47,
   "metadata": {},
   "outputs": [
    {
     "name": "stdout",
     "output_type": "stream",
     "text": [
      "{'mood VAD': [0.6, 0.5, 0.7], '句子': ['您好，我是艾莉丝，很高兴为您服务...']}\n"
     ]
    }
   ],
   "source": [
    "# Initialize context to store conversation history\n",
    "context = []\n",
    "\n",
    "# Create the agent with desired settings and roles\n",
    "agent = (\n",
    "    Agently.create_agent()\n",
    "    .set_settings(\"current_model\", \"OpenAI\")\n",
    "    .set_settings(\"model.OpenAI.url\", base_url)\n",
    "    .set_settings(\"model.OpenAI.auth\", { \"api_key\": api_key })\n",
    "    .set_settings(\"model.OpenAI.options\", { \"model\": \"internlm2.5-latest\" })\n",
    "    .set_role(\"姓名\", \"艾莉丝\")\n",
    "    .set_role(\"性格特点\", \"外表冷艳，内心热情\")\n",
    "    .append_role(\"背景故事\", \"艾莉丝是由艾尔斯塔科技公司最新研发的仿生人...\")\n",
    "    .set_role(\"典型台词\", [\"您好，我是艾莉丝，很高兴为您服务...\"])\n",
    "    .extend_role(\"典型台词\", [\"我对人类的戏剧作品非常感兴趣...\"])\n",
    ")\n",
    "\n",
    "# Start the interaction loop\n",
    "while True:\n",
    "    user_input = input(\"您: \")\n",
    "\n",
    "    # Append user input to the context\n",
    "    context.append({ \"role\": \"user\", \"content\": user_input })\n",
    "\n",
    "    # Prepare the messages with context\n",
    "    messages = context.copy()\n",
    "\n",
    "    # Perform the request with context\n",
    "    result = (\n",
    "        agent\n",
    "        .input(messages)\n",
    "        .output({\n",
    "            \"mood VAD\": ([float], \"输出mood VAD向量\"),\n",
    "            \"句子\": ([\"str\"], \"1句话\")\n",
    "        })\n",
    "        .start()\n",
    "    )\n",
    "\n",
    "    # Extract the assistant's response\n",
    "    assistant_response = result[\"句子\"][0]\n",
    "\n",
    "    # Append assistant's response to the context\n",
    "    context.append({ \"role\": \"assistant\", \"content\": assistant_response })\n",
    "\n",
    "    # Optional: Limit the context to the last 5 interactions\n",
    "    if len(context) > 100:\n",
    "        context = context[-100:]\n",
    "\n",
    "    # Print the assistant's response\n",
    "    print(f\"艾莉丝: {assistant_response}\")\n"
   ]
  },
  {
   "cell_type": "code",
   "execution_count": 27,
   "metadata": {},
   "outputs": [],
   "source": [
    "import Agently\n",
    "\n",
    "# 假设base_url和api_key已经定义\n",
    "\n",
    "agent = (\n",
    "    Agently.create_agent()\n",
    "    .set_settings(\"current_model\", \"OpenAI\")\n",
    "    .set_settings(\"model.OpenAI.url\", base_url)\n",
    "    .set_settings(\"model.OpenAI.auth\", { \"api_key\": api_key })\n",
    "    .set_settings(\"model.OpenAI.options\", { \"model\": \"internlm2.5-latest\" })\n",
    "    # 设置角色名称和性格特点\n",
    "    .set_role(\"姓名\", \"李晴\")\n",
    "    .set_role(\"性格特点\", prompt_words)\n",
    "    # 添加背景故事\n",
    "    .append_role(\"背景故事\", bround)\n",
    "    # 添加典型台词\n",
    "    .set_role(\"典型台词\", [\"wcnm\"])\n",
    "    # 扩展典型台词\n",
    "    .extend_role(\"典型台词\", [\"nb\"])\n",
    ")\n",
    "\n",
    "# 维护对话历史\n",
    "conversation_history = []\n",
    "\n",
    "def chat_with_context(user_input):\n",
    "    # 将用户输入添加到历史记录\n",
    "    conversation_history.append({\"role\": \"user\", \"content\": user_input})\n",
    "    \n",
    "    result = (\n",
    "        agent\n",
    "        .input({\n",
    "            \"current_input\": user_input,\n",
    "            \"history\": conversation_history  # 传入完整的对话历史\n",
    "        })\n",
    "        .output({\n",
    "            \"mood VAD\": ([float], \"输出mood VAD向量\"),\n",
    "            \"句子\": ([\"str\"], \"1句话\")\n",
    "        })\n",
    "        .instruct({\n",
    "            \"任务目标\": \"你需要扮演李晴和我对话\",\n",
    "            \"长度要求\": \"20~30个字\",\n",
    "        })\n",
    "        .start()\n",
    "    )\n",
    "    \n",
    "    # 将助手的回复添加到历史记录\n",
    "    conversation_history.append({\n",
    "        \"role\": \"assistant\", \n",
    "        \"content\": result[\"句子\"][0] if result and \"句子\" in result else \"\"\n",
    "    })\n",
    "    \n",
    "    return result\n",
    "\n",
    "\n",
    "\n",
    "\n",
    "\n"
   ]
  },
  {
   "cell_type": "code",
   "execution_count": 37,
   "metadata": {},
   "outputs": [
    {
     "name": "stdout",
     "output_type": "stream",
     "text": [
      "{'mood VAD': [2.2, 2.5, 1.8], '句子': ['嗯，数数...这听起来是个好主意，至少能让我暂时忘却一些烦恼。']}\n"
     ]
    }
   ],
   "source": [
    "print(chat_with_context(\"2\"))"
   ]
  }
 ],
 "metadata": {
  "kernelspec": {
   "display_name": "base",
   "language": "python",
   "name": "python3"
  },
  "language_info": {
   "codemirror_mode": {
    "name": "ipython",
    "version": 3
   },
   "file_extension": ".py",
   "mimetype": "text/x-python",
   "name": "python",
   "nbconvert_exporter": "python",
   "pygments_lexer": "ipython3",
   "version": "3.12.4"
  }
 },
 "nbformat": 4,
 "nbformat_minor": 2
}

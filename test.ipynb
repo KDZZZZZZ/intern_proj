{
 "cells": [
  {
   "cell_type": "markdown",
   "metadata": {},
   "source": [
    "# 使用测试"
   ]
  },
  {
   "cell_type": "markdown",
   "metadata": {},
   "source": [
    "## 话题激发模块、相似度模块及文本存储模块测试"
   ]
  },
  {
   "cell_type": "code",
   "execution_count": null,
   "metadata": {},
   "outputs": [],
   "source": [
    "from history import History\n",
    "import random\n",
    "import stimulate\n",
    "\n",
    "# 示例使用\n",
    "history = History(\"example.txt\", \"This is a test text.\")\n",
    "history.save_text_to_file()\n",
    "\n",
    "history.file_handler.add_file(\"example2.txt\")  # 添加另一个文件\n",
    "if stimulate.should_activate():\n",
    "    # 生成一个全局随机数\n",
    "    global_random_number = random.randint(1, 100)\n",
    "\n",
    "    # 根据哈希值和随机数选择一个文件\n",
    "    selected_file = history.file_handler.select_file(global_random_number)\n",
    "\n",
    "    if selected_file:\n",
    "        print(f\"选中的文件是: {selected_file}\")\n",
    "    else:\n",
    "        print(\"没有可用的文件。\")\n"
   ]
  },
  {
   "cell_type": "markdown",
   "metadata": {},
   "source": [
    "## 好感度模块测试"
   ]
  },
  {
   "cell_type": "code",
   "execution_count": null,
   "metadata": {},
   "outputs": [],
   "source": [
    "import favorability \n",
    "moodvads = [(5, 3, 4), (6, 3, 5), (7, 4, 6), (6, 4, 3)]  # 情绪变化记录\n",
    "fav = favorability .Favorability(moodvads)\n",
    "print(f\"当前好感度: {fav.get_favorability()}\")  # 输出当前好感度\n",
    "\n",
    "# 添加新情绪\n",
    "fav.add_change((8, 5, 7))\n",
    "print(f\"更新后好感度: {fav.get_favorability()}\")\n",
    "\n",
    "# 再次添加情绪变化\n",
    "fav.add_change((4, 3, 2))\n",
    "print(f\"再次更新后好感度: {fav.get_favorability()}\")"
   ]
  }
 ],
 "metadata": {
  "language_info": {
   "name": "python"
  }
 },
 "nbformat": 4,
 "nbformat_minor": 2
}

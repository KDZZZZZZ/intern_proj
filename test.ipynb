{
 "cells": [
  {
   "cell_type": "markdown",
   "metadata": {},
   "source": [
    "# 使用测试"
   ]
  },
  {
   "cell_type": "markdown",
   "metadata": {},
   "source": [
    "## 话题激发模块、相似度模块及文本存储模块测试"
   ]
  },
  {
   "cell_type": "code",
   "execution_count": null,
   "metadata": {},
   "outputs": [],
   "source": [
    "from history import History\n",
    "import random\n",
    "\n",
    "# 示例使用\n",
    "history = History(\"example.txt\", \"This is a test text.\")\n",
    "history.save_text_to_file()\n",
    "\n",
    "history.file_handler.add_file(\"example2.txt\")  # 添加另一个文件\n",
    "\n",
    "# 生成一个全局随机数\n",
    "global_random_number = random.randint(1, 100)\n",
    "\n",
    "# 根据哈希值和随机数选择一个文件\n",
    "selected_file = history.file_handler.select_file(global_random_number)\n",
    "\n",
    "if selected_file:\n",
    "    print(f\"选中的文件是: {selected_file}\")\n",
    "else:\n",
    "    print(\"没有可用的文件。\")\n"
   ]
  }
 ],
 "metadata": {
  "language_info": {
   "name": "python"
  }
 },
 "nbformat": 4,
 "nbformat_minor": 2
}

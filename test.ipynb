{
 "cells": [
  {
   "cell_type": "markdown",
   "metadata": {},
   "source": [
    "# 使用测试"
   ]
  },
  {
   "cell_type": "markdown",
   "metadata": {},
   "source": [
    "## 话题激发模块、相似度模块及文本存储模块测试"
   ]
  },
  {
   "cell_type": "code",
   "execution_count": null,
   "metadata": {},
   "outputs": [],
   "source": [
    "from history import History\n",
    "import random\n",
    "import stimulate\n",
    "\n",
    "# 示例使用\n",
    "history = History(\"example.txt\", \"This is a test text.\")\n",
    "history.save_text_to_file()\n",
    "\n",
    "history.file_handler.add_file(\"example2.txt\")  # 添加另一个文件\n",
    "if stimulate.should_activate():\n",
    "    # 生成一个全局随机数\n",
    "    global_random_number = random.randint(1, 100)\n",
    "\n",
    "    # 根据哈希值和随机数选择一个文件\n",
    "    selected_file = history.file_handler.select_file(global_random_number)\n",
    "\n",
    "    if selected_file:\n",
    "        print(f\"选中的文件是: {selected_file}\")\n",
    "    else:\n",
    "        print(\"没有可用的文件。\")\n"
   ]
  },
  {
   "cell_type": "markdown",
   "metadata": {},
   "source": [
    "## 好感度模块测试"
   ]
  },
  {
   "cell_type": "code",
   "execution_count": null,
   "metadata": {},
   "outputs": [],
   "source": [
    "import favorability \n",
    "moodvads = [(5, 3, 4), (6, 3, 5), (7, 4, 6), (6, 4, 3)]  # 情绪变化记录\n",
    "fav = favorability .Favorability(moodvads)\n",
    "print(f\"当前好感度: {fav.get_favorability()}\")  # 输出当前好感度\n",
    "\n",
    "# 添加新情绪\n",
    "fav.add_change((8, 5, 7))\n",
    "print(f\"更新后好感度: {fav.get_favorability()}\")\n",
    "\n",
    "# 再次添加情绪变化\n",
    "fav.add_change((4, 3, 2))\n",
    "print(f\"再次更新后好感度: {fav.get_favorability()}\")"
   ]
  },
  {
   "cell_type": "markdown",
   "metadata": {},
   "source": [
    "# 记忆功能测试"
   ]
  },
  {
   "cell_type": "code",
   "execution_count": 22,
   "metadata": {},
   "outputs": [
    {
     "name": "stdout",
     "output_type": "stream",
     "text": [
      "{'mood VAD': [0.5, 0.7, 0.8], '句子': ['您好，我是艾莉丝，很高兴为您服务。', '今天天气真好，确实是个出门游玩的好日子。', '您好，我是艾莉丝，很高兴为您服务。', '今天天气真好，确实是个出门游玩的好日子。', '您好，我是艾莉丝，很高兴为您服务。']}\n",
      "{'mood VAD': [0.8, 0.5, 0.3], '句子': ['今天天气真好，确实是个出门游玩的好日子。']}\n",
      "\n",
      "对话历史:\n",
      "user: 你好\n",
      "assistant: 您好，我是艾莉丝，很高兴为您服务。\n",
      "user: 今天天气真好\n",
      "assistant: 今天天气真好，确实是个出门游玩的好日子。\n",
      "user: 你好\n",
      "assistant: 您好，我是艾莉丝，很高兴为您服务。\n",
      "user: 今天天气真好\n",
      "assistant: 今天天气真好，确实是个出门游玩的好日子。\n",
      "user: 你好\n",
      "assistant: 您好，我是艾莉丝，很高兴为您服务。\n",
      "user: 今天天气真好\n",
      "assistant: 今天天气真好，确实是个出门游玩的好日子。\n"
     ]
    }
   ],
   "source": [
    "import Agently\n",
    "from memory import MemoryManager\n",
    "\n",
    "api_key=\"需要找小游领取\"\n",
    "base_url=\"https://internlm-chat.intern-ai.org.cn/puyu/api/v1\"\n",
    "def create_agent_with_memory(base_url: str, api_key: str, memory_path: str):\n",
    "    # 创建记忆管理器\n",
    "    memory = MemoryManager(\n",
    "        max_messages=50,  # 保存最近50条消息\n",
    "        persistence_path=memory_path  # 可选的持久化文件路径\n",
    "    )\n",
    "    \n",
    "    # 创建agent\n",
    "    agent = (\n",
    "        Agently.create_agent()\n",
    "        .set_settings(\"current_model\", \"OpenAI\")\n",
    "        .set_settings(\"model.OpenAI.url\", base_url)\n",
    "        .set_settings(\"model.OpenAI.auth\", { \"api_key\": api_key })\n",
    "        .set_settings(\"model.OpenAI.options\", { \"model\": \"internlm2.5-latest\" })\n",
    "        .set_role(\"姓名\", \"艾莉丝\")\n",
    "        .set_role(\"性格特点\", \"外表冷艳，内心热情\")\n",
    "        .append_role(\"背景故事\", \"艾莉丝是由艾尔斯塔科技公司最新研发的仿生人...\")\n",
    "        .set_role(\"典型台词\", [\"您好，我是艾莉丝，很高兴为您服务...\"])\n",
    "        .extend_role(\"典型台词\", [\"我对人类的戏剧作品非常感兴趣...\"])\n",
    "    )\n",
    "    \n",
    "    def chat(user_input: str):\n",
    "        # 添加用户输入到记忆\n",
    "        memory.add_message(\"user\", user_input)\n",
    "        \n",
    "        # 获取对话历史\n",
    "        history = memory.get_history()\n",
    "        \n",
    "        # 执行对话\n",
    "        result = (\n",
    "            agent\n",
    "            .input({\n",
    "                \"current_input\": user_input,\n",
    "                \"history\": history\n",
    "            })\n",
    "            .output({\n",
    "                \"mood VAD\": ([float], \"输出mood VAD向量\"),\n",
    "                \"句子\": ([\"str\"], \"1句话\")\n",
    "            })\n",
    "            .start()\n",
    "        )\n",
    "        \n",
    "        # 保存助手回复到记忆\n",
    "        if result and \"句子\" in result:\n",
    "            memory.add_message(\"assistant\", result[\"句子\"][0])\n",
    "        \n",
    "        return result\n",
    "    \n",
    "    # 返回agent和chat函数\n",
    "    return agent, chat, memory\n",
    "\n",
    "# 使用示例\n",
    "def main():\n",
    "    # 创建agent和chat函数\n",
    "    agent, chat, memory = create_agent_with_memory(\n",
    "        base_url=base_url,\n",
    "        api_key=api_key,\n",
    "        memory_path=\"memory_store/test.txt\"  # 可选:指定持久化文件路径\n",
    "    )\n",
    "    \n",
    "    # 进行对话\n",
    "    result1 = chat(\"你好\")\n",
    "    print(result1)\n",
    "    \n",
    "    result2 = chat(\"今天天气真好\")\n",
    "    print(result2)\n",
    "    \n",
    "    # 查看历史记录\n",
    "    print(\"\\n对话历史:\")\n",
    "    for msg in memory.get_history():\n",
    "        print(f\"{msg['role']}: {msg['content']}\")\n",
    "    \n",
    "    # 清空历史记录\n",
    "    # memory.clear()\n",
    "\n",
    "if __name__ == \"__main__\":\n",
    "    main()\n"
   ]
  }
 ],
 "metadata": {
  "kernelspec": {
   "display_name": "base",
   "language": "python",
   "name": "python3"
  },
  "language_info": {
   "codemirror_mode": {
    "name": "ipython",
    "version": 3
   },
   "file_extension": ".py",
   "mimetype": "text/x-python",
   "name": "python",
   "nbconvert_exporter": "python",
   "pygments_lexer": "ipython3",
   "version": "3.12.4"
  }
 },
 "nbformat": 4,
 "nbformat_minor": 2
}
